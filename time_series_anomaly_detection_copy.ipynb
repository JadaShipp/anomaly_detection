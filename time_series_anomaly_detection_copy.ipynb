{
 "cells": [
  {
   "cell_type": "code",
   "execution_count": 1,
   "metadata": {},
   "outputs": [],
   "source": [
    "from __future__ import division\n",
    "import itertools\n",
    "import warnings\n",
    "warnings.filterwarnings(\"ignore\")\n",
    "import matplotlib.pyplot as plt\n",
    "import matplotlib.dates as mdates\n",
    "import numpy as np\n",
    "import pandas as pd\n",
    "import math\n",
    "from sklearn import metrics\n",
    "from random import randint\n",
    "from matplotlib import style\n",
    "import seaborn as sns\n",
    "%matplotlib inline\n",
    "# code to regulate the size of plots for the rest of notebook\n",
    "plt.rc('figure', figsize=(14, 12))\n",
    "plt.rc('font', size=13)"
   ]
  },
  {
   "cell_type": "code",
   "execution_count": 2,
   "metadata": {},
   "outputs": [],
   "source": [
    "colnames=['timestamp', 'time', 'destination', 'user', 'cohort',\n",
    "          'ip', 'huh']\n",
    "df = pd.read_csv('curriculum-access.txt',          \n",
    "                 engine='python',\n",
    "                 header=None,\n",
    "                 index_col=False,\n",
    "                 names=colnames,\n",
    "                 error_bad_lines=False,\n",
    "                 sep=r'\\s(?=(?:[^\"]*\"[^\"]*\")*[^\"]*$)(?![^\\[]*\\])',\n",
    "                 na_values='\"-\"')"
   ]
  },
  {
   "cell_type": "code",
   "execution_count": 3,
   "metadata": {},
   "outputs": [
    {
     "data": {
      "text/html": [
       "<div>\n",
       "<style scoped>\n",
       "    .dataframe tbody tr th:only-of-type {\n",
       "        vertical-align: middle;\n",
       "    }\n",
       "\n",
       "    .dataframe tbody tr th {\n",
       "        vertical-align: top;\n",
       "    }\n",
       "\n",
       "    .dataframe thead th {\n",
       "        text-align: right;\n",
       "    }\n",
       "</style>\n",
       "<table border=\"1\" class=\"dataframe\">\n",
       "  <thead>\n",
       "    <tr style=\"text-align: right;\">\n",
       "      <th></th>\n",
       "      <th>destination</th>\n",
       "      <th>user</th>\n",
       "      <th>cohort</th>\n",
       "      <th>ip</th>\n",
       "    </tr>\n",
       "    <tr>\n",
       "      <th>Timestamp</th>\n",
       "      <th></th>\n",
       "      <th></th>\n",
       "      <th></th>\n",
       "      <th></th>\n",
       "    </tr>\n",
       "  </thead>\n",
       "  <tbody>\n",
       "    <tr>\n",
       "      <td>2018-01-26 09:55:03</td>\n",
       "      <td>/</td>\n",
       "      <td>1</td>\n",
       "      <td>8.0</td>\n",
       "      <td>98.106.20.62</td>\n",
       "    </tr>\n",
       "    <tr>\n",
       "      <td>2018-01-26 09:56:02</td>\n",
       "      <td>java-ii</td>\n",
       "      <td>1</td>\n",
       "      <td>8.0</td>\n",
       "      <td>98.106.20.62</td>\n",
       "    </tr>\n",
       "    <tr>\n",
       "      <td>2018-01-26 09:56:05</td>\n",
       "      <td>java-ii/object-oriented-programming</td>\n",
       "      <td>1</td>\n",
       "      <td>8.0</td>\n",
       "      <td>98.106.20.62</td>\n",
       "    </tr>\n",
       "    <tr>\n",
       "      <td>2018-01-26 09:56:06</td>\n",
       "      <td>slides/object_oriented_programming</td>\n",
       "      <td>1</td>\n",
       "      <td>8.0</td>\n",
       "      <td>98.106.20.62</td>\n",
       "    </tr>\n",
       "    <tr>\n",
       "      <td>2018-01-26 09:56:24</td>\n",
       "      <td>javascript-i/conditionals</td>\n",
       "      <td>2</td>\n",
       "      <td>22.0</td>\n",
       "      <td>98.106.20.62</td>\n",
       "    </tr>\n",
       "  </tbody>\n",
       "</table>\n",
       "</div>"
      ],
      "text/plain": [
       "                                             destination  user  cohort  \\\n",
       "Timestamp                                                                \n",
       "2018-01-26 09:55:03                                    /     1     8.0   \n",
       "2018-01-26 09:56:02                              java-ii     1     8.0   \n",
       "2018-01-26 09:56:05  java-ii/object-oriented-programming     1     8.0   \n",
       "2018-01-26 09:56:06   slides/object_oriented_programming     1     8.0   \n",
       "2018-01-26 09:56:24            javascript-i/conditionals     2    22.0   \n",
       "\n",
       "                               ip  \n",
       "Timestamp                          \n",
       "2018-01-26 09:55:03  98.106.20.62  \n",
       "2018-01-26 09:56:02  98.106.20.62  \n",
       "2018-01-26 09:56:05  98.106.20.62  \n",
       "2018-01-26 09:56:06  98.106.20.62  \n",
       "2018-01-26 09:56:24  98.106.20.62  "
      ]
     },
     "execution_count": 3,
     "metadata": {},
     "output_type": "execute_result"
    }
   ],
   "source": [
    "df['Timestamp'] = df['timestamp'] + \" \" + df['time']\n",
    "df = df.drop(columns = ['timestamp', 'time', 'huh'])\n",
    "df['Timestamp'] = pd.to_datetime(df['Timestamp'])\n",
    "df = df.sort_values(\"Timestamp\").set_index('Timestamp')\n",
    "df.head()\n"
   ]
  },
  {
   "cell_type": "code",
   "execution_count": 4,
   "metadata": {},
   "outputs": [],
   "source": [
    "# def get_topic(destination):\n",
    "#     ds_list = [python, time series, nlp]\n",
    "#     web_dev = [javascript, java, css]\n",
    "#     for ds in ds_list:\n",
    "#         if ds in destination:\n",
    "#             return “Data Science”\n",
    "#     for wd in web_dev:\n",
    "#         if wd in destination:\n",
    "#             return “Web Dev”\n",
    "#     return “Unknown”\n",
    "# curie[“course”] = df.destination.apply(get_topic)"
   ]
  },
  {
   "cell_type": "code",
   "execution_count": 5,
   "metadata": {},
   "outputs": [],
   "source": [
    "# function that takes in a url topic and returns a course name\n",
    "def get_course(destination):\n",
    "    if type(destination) != str:\n",
    "        return \"Unknown\"\n",
    "    # Recommend using boolean flag variables to simplify\n",
    "    exists_in_web_dev = False\n",
    "    exists_in_ds = False\n",
    "    wd = ['javascript', 'java', 'css', 'mysql', 'jquery', 'spring', 'html', 'object_oriented_programming']\n",
    "    ds = ['anomaly', 'timeseries', 'python', 'mysql', 'regression', 'classification', 'stats', 'tidy']\n",
    "    for w in wd:\n",
    "        if w in destination:\n",
    "            exists_in_web_dev = True\n",
    "    for d in ds:\n",
    "        if d in destination:\n",
    "            exists_in_ds = True\n",
    "    if exists_in_ds and exists_in_web_dev:\n",
    "        answer = \"Both\"\n",
    "    elif exists_in_ds:\n",
    "        answer = \"Data Science\"\n",
    "    elif exists_in_web_dev:\n",
    "        answer = \"Web Dev\"\n",
    "    else:\n",
    "        answer = \"Unknown\"\n",
    "    return answer"
   ]
  },
  {
   "cell_type": "code",
   "execution_count": 6,
   "metadata": {},
   "outputs": [
    {
     "data": {
      "text/plain": [
       "53.0    25533\n",
       "56.0    14438\n",
       "55.0    14252\n",
       "28.0    12712\n",
       "52.0    11709\n",
       "57.0     9547\n",
       "51.0     3729\n",
       "34.0     2005\n",
       "33.0     1560\n",
       "31.0     1293\n",
       "32.0      407\n",
       "26.0      407\n",
       "29.0      245\n",
       "17.0      211\n",
       "21.0      165\n",
       "24.0      122\n",
       "25.0       99\n",
       "23.0       78\n",
       "22.0       48\n",
       "27.0       41\n",
       "8.0        41\n",
       "14.0       20\n",
       "13.0       16\n",
       "18.0        6\n",
       "19.0        5\n",
       "1.0         5\n",
       "16.0        3\n",
       "5.0         1\n",
       "Name: cohort, dtype: int64"
      ]
     },
     "execution_count": 6,
     "metadata": {},
     "output_type": "execute_result"
    }
   ],
   "source": [
    "curie = df.loc['2020-02-03':'2020-05']\n",
    "curie.cohort.value_counts()"
   ]
  },
  {
   "cell_type": "code",
   "execution_count": 7,
   "metadata": {},
   "outputs": [],
   "source": [
    "curie['program'] = curie.destination.apply(get_course)"
   ]
  },
  {
   "cell_type": "code",
   "execution_count": 8,
   "metadata": {},
   "outputs": [
    {
     "data": {
      "text/html": [
       "<div>\n",
       "<style scoped>\n",
       "    .dataframe tbody tr th:only-of-type {\n",
       "        vertical-align: middle;\n",
       "    }\n",
       "\n",
       "    .dataframe tbody tr th {\n",
       "        vertical-align: top;\n",
       "    }\n",
       "\n",
       "    .dataframe thead th {\n",
       "        text-align: right;\n",
       "    }\n",
       "</style>\n",
       "<table border=\"1\" class=\"dataframe\">\n",
       "  <thead>\n",
       "    <tr style=\"text-align: right;\">\n",
       "      <th></th>\n",
       "      <th>destination</th>\n",
       "      <th>user</th>\n",
       "      <th>cohort</th>\n",
       "      <th>ip</th>\n",
       "      <th>program</th>\n",
       "    </tr>\n",
       "    <tr>\n",
       "      <th>Timestamp</th>\n",
       "      <th></th>\n",
       "      <th></th>\n",
       "      <th></th>\n",
       "      <th></th>\n",
       "      <th></th>\n",
       "    </tr>\n",
       "  </thead>\n",
       "  <tbody>\n",
       "    <tr>\n",
       "      <td>2020-02-03 06:36:01</td>\n",
       "      <td>/</td>\n",
       "      <td>568</td>\n",
       "      <td>53.0</td>\n",
       "      <td>98.106.20.59</td>\n",
       "      <td>Unknown</td>\n",
       "    </tr>\n",
       "    <tr>\n",
       "      <td>2020-02-03 06:39:17</td>\n",
       "      <td>html-css</td>\n",
       "      <td>568</td>\n",
       "      <td>53.0</td>\n",
       "      <td>98.106.20.59</td>\n",
       "      <td>Web Dev</td>\n",
       "    </tr>\n",
       "    <tr>\n",
       "      <td>2020-02-03 06:39:21</td>\n",
       "      <td>html-css/css-ii/bootstrap-grid-system</td>\n",
       "      <td>568</td>\n",
       "      <td>53.0</td>\n",
       "      <td>98.106.20.59</td>\n",
       "      <td>Web Dev</td>\n",
       "    </tr>\n",
       "    <tr>\n",
       "      <td>2020-02-03 07:44:40</td>\n",
       "      <td>mysql/extra-exercises</td>\n",
       "      <td>515</td>\n",
       "      <td>33.0</td>\n",
       "      <td>68.12.216.98</td>\n",
       "      <td>Both</td>\n",
       "    </tr>\n",
       "    <tr>\n",
       "      <td>2020-02-03 07:49:05</td>\n",
       "      <td>java-ii/arrays</td>\n",
       "      <td>531</td>\n",
       "      <td>52.0</td>\n",
       "      <td>69.207.166.119</td>\n",
       "      <td>Web Dev</td>\n",
       "    </tr>\n",
       "  </tbody>\n",
       "</table>\n",
       "</div>"
      ],
      "text/plain": [
       "                                               destination  user  cohort  \\\n",
       "Timestamp                                                                  \n",
       "2020-02-03 06:36:01                                      /   568    53.0   \n",
       "2020-02-03 06:39:17                               html-css   568    53.0   \n",
       "2020-02-03 06:39:21  html-css/css-ii/bootstrap-grid-system   568    53.0   \n",
       "2020-02-03 07:44:40                  mysql/extra-exercises   515    33.0   \n",
       "2020-02-03 07:49:05                         java-ii/arrays   531    52.0   \n",
       "\n",
       "                                 ip  program  \n",
       "Timestamp                                     \n",
       "2020-02-03 06:36:01    98.106.20.59  Unknown  \n",
       "2020-02-03 06:39:17    98.106.20.59  Web Dev  \n",
       "2020-02-03 06:39:21    98.106.20.59  Web Dev  \n",
       "2020-02-03 07:44:40    68.12.216.98     Both  \n",
       "2020-02-03 07:49:05  69.207.166.119  Web Dev  "
      ]
     },
     "execution_count": 8,
     "metadata": {},
     "output_type": "execute_result"
    }
   ],
   "source": [
    "curie.head()"
   ]
  },
  {
   "cell_type": "code",
   "execution_count": 17,
   "metadata": {},
   "outputs": [
    {
     "data": {
      "text/plain": [
       "(array([146.,  64.,  27.,  16.,   7.,   2.,   1.,   2.,   1.,   1.]),\n",
       " array([1.0000e+00, 2.9940e+02, 5.9780e+02, 8.9620e+02, 1.1946e+03,\n",
       "        1.4930e+03, 1.7914e+03, 2.0898e+03, 2.3882e+03, 2.6866e+03,\n",
       "        2.9850e+03]),\n",
       " <a list of 10 Patch objects>)"
      ]
     },
     "execution_count": 17,
     "metadata": {},
     "output_type": "execute_result"
    },
    {
     "data": {
      "image/png": "[encoded data removed]",
      "text/plain": [
       "<Figure size 432x288 with 1 Axes>"
      ]
     },
     "metadata": {
      "needs_background": "light"
     },
     "output_type": "display_data"
    }
   ],
   "source": [
    "plt.hist(curie.groupby('cohort')['user'].value_counts())"
   ]
  },
  {
   "cell_type": "code",
   "execution_count": null,
   "metadata": {},
   "outputs": [],
   "source": []
  }
 ],
 "metadata": {
  "kernelspec": {
   "display_name": "Python 3",
   "language": "python",
   "name": "python3"
  },
  "language_info": {
   "codemirror_mode": {
    "name": "ipython",
    "version": 3
   },
   "file_extension": ".py",
   "mimetype": "text/x-python",
   "name": "python",
   "nbconvert_exporter": "python",
   "pygments_lexer": "ipython3",
   "version": "3.7.4"
  }
 },
 "nbformat": 4,
 "nbformat_minor": 2
}
